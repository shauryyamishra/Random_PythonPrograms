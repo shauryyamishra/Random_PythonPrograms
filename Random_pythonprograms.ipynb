{
  "nbformat": 4,
  "nbformat_minor": 0,
  "metadata": {
    "colab": {
      "provenance": [],
      "authorship_tag": "ABX9TyOP9XpDe1RNRYuL7RixWlmR",
      "include_colab_link": true
    },
    "kernelspec": {
      "name": "python3",
      "display_name": "Python 3"
    },
    "language_info": {
      "name": "python"
    }
  },
  "cells": [
    {
      "cell_type": "markdown",
      "metadata": {
        "id": "view-in-github",
        "colab_type": "text"
      },
      "source": [
        "<a href=\"https://colab.research.google.com/github/shauryyamishra/Random_PythonPrograms/blob/main/Random_pythonprograms.ipynb\" target=\"_parent\"><img src=\"https://colab.research.google.com/assets/colab-badge.svg\" alt=\"Open In Colab\"/></a>"
      ]
    },
    {
      "cell_type": "code",
      "execution_count": null,
      "metadata": {
        "colab": {
          "base_uri": "https://localhost:8080/"
        },
        "id": "t9WVMs88XUQv",
        "outputId": "9fee962c-d180-4db4-c492-832c29e11ea5"
      },
      "outputs": [
        {
          "output_type": "stream",
          "name": "stdout",
          "text": [
            "whats my name?:ritu\n",
            "thats right homie\n"
          ]
        }
      ],
      "source": [
        "secretword='shaurya'\n",
        "no_guess= 0\n",
        "guess=\"\"\n",
        "\n",
        "\n",
        "while guess != secretword and no_guess<3 :\n",
        "  guess= input(\"whats my name?:\")\n",
        "  no_guess += 1\n",
        "  \n",
        "if guess==secretword:\n",
        "  print(\"thats right homie\")\n",
        "else:\n",
        "  print('lol you lost')\n",
        "  "
      ]
    },
    {
      "cell_type": "code",
      "source": [
        "num1 = float(input(\"Enter first number: \"))\n",
        "num2 = float(input(\"Enter second number: \"))\n",
        "\n",
        "sum = num1 + num2\n",
        "difference = num1 - num2\n",
        "product = num1 * num2\n",
        "quotient = num1 / num2\n",
        "\n",
        "print(\"Sum:\", sum)\n",
        "print(\"Difference:\", difference)\n",
        "print(\"Product:\", product)\n",
        "print(\"Quotient:\", quotient)"
      ],
      "metadata": {
        "colab": {
          "base_uri": "https://localhost:8080/"
        },
        "id": "0hFzhVyomdzM",
        "outputId": "4dca1228-35e7-416b-c6fd-1b568d67d865"
      },
      "execution_count": null,
      "outputs": [
        {
          "output_type": "stream",
          "name": "stdout",
          "text": [
            "Enter first number: 5\n",
            "Enter second number: 2\n",
            "Sum: 7.0\n",
            "Difference: 3.0\n",
            "Product: 10.0\n",
            "Quotient: 2.5\n"
          ]
        }
      ]
    },
    {
      "cell_type": "code",
      "source": [
        "#defining a function for exponent \n",
        "def exponent_(base_,power_):\n",
        "  result = 1\n",
        "  for index in range(power_):\n",
        "    result = base_*result\n",
        "  return result\n",
        "\n",
        "print(exponent_(2,4))"
      ],
      "metadata": {
        "colab": {
          "base_uri": "https://localhost:8080/"
        },
        "id": "dW60YJLXYz6V",
        "outputId": "c1768a95-a7fa-4ba4-bee3-4dcd641d9217"
      },
      "execution_count": null,
      "outputs": [
        {
          "output_type": "stream",
          "name": "stdout",
          "text": [
            "16\n"
          ]
        }
      ]
    },
    {
      "cell_type": "code",
      "source": [
        "num = int(input(\"enter a random num:\"))\n",
        "if num % 2 == 0:\n",
        "\tprint(\"num is even\")\n",
        "else:\n",
        "\tprint(\"num is odd\")"
      ],
      "metadata": {
        "id": "FS9HDXqxdNeJ",
        "colab": {
          "base_uri": "https://localhost:8080/"
        },
        "outputId": "8cda6c8d-724c-4ff7-f22a-abd7d098181d"
      },
      "execution_count": null,
      "outputs": [
        {
          "output_type": "stream",
          "name": "stdout",
          "text": [
            "enter a random num:24\n",
            "num is even\n"
          ]
        }
      ]
    },
    {
      "cell_type": "code",
      "source": [
        "user_input = input(\"Enter a list of numbers separated by spaces: \")\n",
        "numbers_list = user_input.split()\n",
        "print(numbers_list)"
      ],
      "metadata": {
        "colab": {
          "base_uri": "https://localhost:8080/"
        },
        "id": "Sok0P7iGO_JZ",
        "outputId": "eeeae920-890a-43c8-ba84-5b34a246b1e3"
      },
      "execution_count": null,
      "outputs": [
        {
          "output_type": "stream",
          "name": "stdout",
          "text": [
            "Enter a list of numbers separated by spaces: 12 65 559 5648\n",
            "['12', '65', '559', '5648']\n"
          ]
        }
      ]
    },
    {
      "cell_type": "code",
      "source": [
        "user_input = input(\"Enter a list of numbers separated by spaces: \")\n",
        "numbers_list = user_input.split()\n",
        "print(numbers_list)\n",
        "even_num_list = []\n",
        "for i in numbers_list:\n",
        "  if int(i) % 2 == 0:\n",
        "    even_num_list.append(int(i))\n",
        "print(even_num_list)"
      ],
      "metadata": {
        "colab": {
          "base_uri": "https://localhost:8080/"
        },
        "id": "BJJsWKTrQgC6",
        "outputId": "8ab6c1f3-e58d-4c29-a8cf-6a2070ff85d3"
      },
      "execution_count": null,
      "outputs": [
        {
          "output_type": "stream",
          "name": "stdout",
          "text": [
            "Enter a list of numbers separated by spaces: 26 45 69 458 15687\n",
            "['26', '45', '69', '458', '15687']\n",
            "[26, 458]\n"
          ]
        }
      ]
    },
    {
      "cell_type": "code",
      "source": [
        "age = int(input('enter your age :'))\n",
        "current_year= int(input('enter the current year:'))\n",
        "diff= 100-age\n",
        "year= diff+current_year\n",
        "print(\"the year you are going to turn 100 is:\",year)"
      ],
      "metadata": {
        "colab": {
          "base_uri": "https://localhost:8080/"
        },
        "id": "3gxgRLTpRlgG",
        "outputId": "8ceb7c64-e21e-42db-e9a5-a2b885f06d25"
      },
      "execution_count": null,
      "outputs": [
        {
          "output_type": "stream",
          "name": "stdout",
          "text": [
            "enter your age :48\n",
            "enter the current year:2023\n",
            "the year you are going to turn 100 is: 2075\n"
          ]
        }
      ]
    },
    {
      "cell_type": "code",
      "source": [
        "num= int(input(\"enter the number till which you want the fibonacci sequence:\"))\n",
        "\n",
        "fibonacci_seq =[0,1]\n",
        "x =0\n",
        "for i in range(2,num):\n",
        "  x = fibonacci_seq[i-1]+fibonacci_seq[i-2]\n",
        "  fibonacci_seq.append(x)\n",
        "print(fibonacci_seq)"
      ],
      "metadata": {
        "id": "rfjr92I8ZUcG",
        "colab": {
          "base_uri": "https://localhost:8080/"
        },
        "outputId": "84fe008f-ea18-4140-ab5b-a8df18da643f"
      },
      "execution_count": null,
      "outputs": [
        {
          "output_type": "stream",
          "name": "stdout",
          "text": [
            "enter the number till which you want the fibonacci sequence:65\n",
            "[0, 1, 1, 2, 3, 5, 8, 13, 21, 34, 55, 89, 144, 233, 377, 610, 987, 1597, 2584, 4181, 6765, 10946, 17711, 28657, 46368, 75025, 121393, 196418, 317811, 514229, 832040, 1346269, 2178309, 3524578, 5702887, 9227465, 14930352, 24157817, 39088169, 63245986, 102334155, 165580141, 267914296, 433494437, 701408733, 1134903170, 1836311903, 2971215073, 4807526976, 7778742049, 12586269025, 20365011074, 32951280099, 53316291173, 86267571272, 139583862445, 225851433717, 365435296162, 591286729879, 956722026041, 1548008755920, 2504730781961, 4052739537881, 6557470319842, 10610209857723]\n"
          ]
        }
      ]
    },
    {
      "cell_type": "code",
      "source": [],
      "metadata": {
        "id": "sn4ZRjYGsi1G"
      },
      "execution_count": null,
      "outputs": []
    }
  ]
}